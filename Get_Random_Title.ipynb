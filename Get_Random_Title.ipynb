{
 "cells": [
  {
   "cell_type": "code",
   "execution_count": 1,
   "metadata": {},
   "outputs": [],
   "source": [
    "import pandas as pd"
   ]
  },
  {
   "cell_type": "code",
   "execution_count": 3,
   "metadata": {},
   "outputs": [
    {
     "name": "stderr",
     "output_type": "stream",
     "text": [
      "C:\\Users\\alecd\\AppData\\Local\\Temp\\ipykernel_27344\\3876064110.py:2: DtypeWarning: Columns (27) have mixed types. Specify dtype option on import or set low_memory=False.\n",
      "  data = pd.read_csv(url)\n"
     ]
    }
   ],
   "source": [
    "url = \"https://raw.githubusercontent.com/NationalGalleryOfArt/opendata/main/data/objects.csv\"\n",
    "data = pd.read_csv(url)"
   ]
  },
  {
   "cell_type": "code",
   "execution_count": 7,
   "metadata": {},
   "outputs": [],
   "source": [
    "data['title'].to_csv(r'./titles.txt', header=None, index=None, sep=' ', quotechar='')"
   ]
  }
 ],
 "metadata": {
  "interpreter": {
   "hash": "198372fc33869c9ca67efe8579ac594f501e49acf6ea7c996b4a0a845f97b1a3"
  },
  "kernelspec": {
   "display_name": "Python 3.9.10 ('.venv': venv)",
   "language": "python",
   "name": "python3"
  },
  "language_info": {
   "codemirror_mode": {
    "name": "ipython",
    "version": 3
   },
   "file_extension": ".py",
   "mimetype": "text/x-python",
   "name": "python",
   "nbconvert_exporter": "python",
   "pygments_lexer": "ipython3",
   "version": "3.9.10"
  },
  "orig_nbformat": 4
 },
 "nbformat": 4,
 "nbformat_minor": 2
}
