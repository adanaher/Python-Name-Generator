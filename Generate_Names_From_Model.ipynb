{
 "cells": [
  {
   "cell_type": "code",
   "execution_count": 2,
   "metadata": {},
   "outputs": [],
   "source": [
    "import tensorflow as tf"
   ]
  },
  {
   "cell_type": "code",
   "execution_count": 3,
   "metadata": {},
   "outputs": [],
   "source": [
    "# This model was trained in a Google CoLab notebook on all titles found in the Open Dataset of the National Gallery of Art\n",
    "# The notebook can be found here:\n",
    "# https://colab.research.google.com/drive/1qnBloFpsZ1qkTb5UzZM5j1fqqQu6eKEO#scrollTo=3Grk32H_CzsC\n",
    "# The notebook can easily be re-ran to generate a new model if necessary\n",
    "\n",
    "one_step_reloaded = tf.saved_model.load('one_step')"
   ]
  },
  {
   "cell_type": "code",
   "execution_count": 4,
   "metadata": {},
   "outputs": [
    {
     "name": "stdout",
     "output_type": "stream",
     "text": [
      "Right  Angels \n",
      " The  Guided  Manfle \n",
      " Geogar  Goblet \n",
      "Foxing\n",
      " Andreus  Games  Duc  de  Pompone \n",
      "\n"
     ]
    }
   ],
   "source": [
    "states = None\n",
    "next_char = tf.constant(['R'])\n",
    "result = [next_char]\n",
    "\n",
    "for n in range(100):\n",
    "  next_char, states = one_step_reloaded.generate_one_step(next_char, states=states)\n",
    "  result.append(next_char)\n",
    "\n",
    "print(tf.strings.join(result)[0].numpy().decode(\"utf-8\"))"
   ]
  }
 ],
 "metadata": {
  "interpreter": {
   "hash": "198372fc33869c9ca67efe8579ac594f501e49acf6ea7c996b4a0a845f97b1a3"
  },
  "kernelspec": {
   "display_name": "Python 3.9.10 ('.venv': venv)",
   "language": "python",
   "name": "python3"
  },
  "language_info": {
   "codemirror_mode": {
    "name": "ipython",
    "version": 3
   },
   "file_extension": ".py",
   "mimetype": "text/x-python",
   "name": "python",
   "nbconvert_exporter": "python",
   "pygments_lexer": "ipython3",
   "version": "3.9.10"
  },
  "orig_nbformat": 4
 },
 "nbformat": 4,
 "nbformat_minor": 2
}
